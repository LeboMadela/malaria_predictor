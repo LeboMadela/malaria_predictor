{
 "cells": [
  {
   "cell_type": "code",
   "execution_count": 32,
   "id": "d9d279dc-0631-43d7-a5f1-e4c65ea098a9",
   "metadata": {},
   "outputs": [
    {
     "name": "stdout",
     "output_type": "stream",
     "text": [
      "Data shape: (344, 14)\n"
     ]
    },
    {
     "data": {
      "text/html": [
       "<div>\n",
       "<style scoped>\n",
       "    .dataframe tbody tr th:only-of-type {\n",
       "        vertical-align: middle;\n",
       "    }\n",
       "\n",
       "    .dataframe tbody tr th {\n",
       "        vertical-align: top;\n",
       "    }\n",
       "\n",
       "    .dataframe thead th {\n",
       "        text-align: right;\n",
       "    }\n",
       "</style>\n",
       "<table border=\"1\" class=\"dataframe\">\n",
       "  <thead>\n",
       "    <tr style=\"text-align: right;\">\n",
       "      <th></th>\n",
       "      <th>Country</th>\n",
       "      <th>Year</th>\n",
       "      <th>No. of cases_estimated</th>\n",
       "      <th>No. of deaths_estimated</th>\n",
       "      <th>No. of cases_median</th>\n",
       "      <th>No. of cases_min</th>\n",
       "      <th>No. of cases_max</th>\n",
       "      <th>No. of deaths_median</th>\n",
       "      <th>No. of deaths_min</th>\n",
       "      <th>No. of deaths_max</th>\n",
       "      <th>WHO Region</th>\n",
       "      <th>No. of cases_reported</th>\n",
       "      <th>No. of deaths_reported</th>\n",
       "      <th>No. of cases</th>\n",
       "    </tr>\n",
       "  </thead>\n",
       "  <tbody>\n",
       "    <tr>\n",
       "      <th>0</th>\n",
       "      <td>Algeria</td>\n",
       "      <td>2017</td>\n",
       "      <td>0</td>\n",
       "      <td>0</td>\n",
       "      <td>0</td>\n",
       "      <td>0.0</td>\n",
       "      <td>0.0</td>\n",
       "      <td>0</td>\n",
       "      <td>0.0</td>\n",
       "      <td>0.0</td>\n",
       "      <td>Africa</td>\n",
       "      <td>0.0</td>\n",
       "      <td>0.0</td>\n",
       "      <td>0.00</td>\n",
       "    </tr>\n",
       "    <tr>\n",
       "      <th>1</th>\n",
       "      <td>Angola</td>\n",
       "      <td>2017</td>\n",
       "      <td>4615605[3106000-6661000]</td>\n",
       "      <td>13316[9970-16600]</td>\n",
       "      <td>4615605</td>\n",
       "      <td>3106000.0</td>\n",
       "      <td>6661000.0</td>\n",
       "      <td>13316</td>\n",
       "      <td>9970.0</td>\n",
       "      <td>16600.0</td>\n",
       "      <td>Africa</td>\n",
       "      <td>3874892.0</td>\n",
       "      <td>13967.0</td>\n",
       "      <td>228.91</td>\n",
       "    </tr>\n",
       "    <tr>\n",
       "      <th>2</th>\n",
       "      <td>Benin</td>\n",
       "      <td>2017</td>\n",
       "      <td>4111699[2774000-6552000]</td>\n",
       "      <td>7328[5740-8920]</td>\n",
       "      <td>4111699</td>\n",
       "      <td>2774000.0</td>\n",
       "      <td>6552000.0</td>\n",
       "      <td>7328</td>\n",
       "      <td>5740.0</td>\n",
       "      <td>8920.0</td>\n",
       "      <td>Africa</td>\n",
       "      <td>1573163.0</td>\n",
       "      <td>2182.0</td>\n",
       "      <td>399.56</td>\n",
       "    </tr>\n",
       "    <tr>\n",
       "      <th>3</th>\n",
       "      <td>Botswana</td>\n",
       "      <td>2017</td>\n",
       "      <td>2989[2300-4200]</td>\n",
       "      <td>7[0-20]</td>\n",
       "      <td>2989</td>\n",
       "      <td>2300.0</td>\n",
       "      <td>4200.0</td>\n",
       "      <td>7</td>\n",
       "      <td>0.0</td>\n",
       "      <td>20.0</td>\n",
       "      <td>Africa</td>\n",
       "      <td>1900.0</td>\n",
       "      <td>17.0</td>\n",
       "      <td>2.05</td>\n",
       "    </tr>\n",
       "    <tr>\n",
       "      <th>4</th>\n",
       "      <td>Burkina Faso</td>\n",
       "      <td>2017</td>\n",
       "      <td>7907562[5645000-11330000]</td>\n",
       "      <td>27791[25100-30500]</td>\n",
       "      <td>7907562</td>\n",
       "      <td>5645000.0</td>\n",
       "      <td>11330000.0</td>\n",
       "      <td>27791</td>\n",
       "      <td>25100.0</td>\n",
       "      <td>30500.0</td>\n",
       "      <td>Africa</td>\n",
       "      <td>10225459.0</td>\n",
       "      <td>4144.0</td>\n",
       "      <td>399.94</td>\n",
       "    </tr>\n",
       "  </tbody>\n",
       "</table>\n",
       "</div>"
      ],
      "text/plain": [
       "        Country  Year     No. of cases_estimated No. of deaths_estimated  \\\n",
       "0       Algeria  2017                          0                       0   \n",
       "1        Angola  2017   4615605[3106000-6661000]       13316[9970-16600]   \n",
       "2         Benin  2017   4111699[2774000-6552000]         7328[5740-8920]   \n",
       "3      Botswana  2017            2989[2300-4200]                 7[0-20]   \n",
       "4  Burkina Faso  2017  7907562[5645000-11330000]      27791[25100-30500]   \n",
       "\n",
       "   No. of cases_median  No. of cases_min  No. of cases_max  \\\n",
       "0                    0               0.0               0.0   \n",
       "1              4615605         3106000.0         6661000.0   \n",
       "2              4111699         2774000.0         6552000.0   \n",
       "3                 2989            2300.0            4200.0   \n",
       "4              7907562         5645000.0        11330000.0   \n",
       "\n",
       "   No. of deaths_median  No. of deaths_min  No. of deaths_max WHO Region  \\\n",
       "0                     0                0.0                0.0     Africa   \n",
       "1                 13316             9970.0            16600.0     Africa   \n",
       "2                  7328             5740.0             8920.0     Africa   \n",
       "3                     7                0.0               20.0     Africa   \n",
       "4                 27791            25100.0            30500.0     Africa   \n",
       "\n",
       "   No. of cases_reported  No. of deaths_reported  No. of cases  \n",
       "0                    0.0                     0.0          0.00  \n",
       "1              3874892.0                 13967.0        228.91  \n",
       "2              1573163.0                  2182.0        399.56  \n",
       "3                 1900.0                    17.0          2.05  \n",
       "4             10225459.0                  4144.0        399.94  "
      ]
     },
     "execution_count": 32,
     "metadata": {},
     "output_type": "execute_result"
    }
   ],
   "source": [
    "# Import essential libraries for data science\n",
    "import pandas as pd\n",
    "from sklearn.ensemble import RandomForestRegressor\n",
    "from sklearn.model_selection import train_test_split\n",
    "from sklearn.metrics import mean_absolute_error\n",
    "import joblib\n",
    "\n",
    "# Load the cleaned malaria dataset\n",
    "malaria_df = pd.read_csv(\"malaria_africa_cleaned.csv\")\n",
    "\n",
    "# Quick check to confirm data is loaded\n",
    "print(\"Data shape:\", malaria_df.shape)\n",
    "malaria_df.head()\n"
   ]
  },
  {
   "cell_type": "code",
   "execution_count": 2,
   "id": "7857470c-d007-4e07-b47a-1b4ed1dbb1f9",
   "metadata": {},
   "outputs": [
    {
     "name": "stdout",
     "output_type": "stream",
     "text": [
      "Columns in the dataset: ['Country', 'Year', 'No. of cases_estimated', 'No. of deaths_estimated', 'No. of cases_median', 'No. of cases_min', 'No. of cases_max', 'No. of deaths_median', 'No. of deaths_min', 'No. of deaths_max', 'WHO Region', 'No. of cases_reported', 'No. of deaths_reported', 'No. of cases']\n"
     ]
    }
   ],
   "source": [
    "print(\"Columns in the dataset:\", malaria_df.columns.tolist())"
   ]
  },
  {
   "cell_type": "code",
   "execution_count": 3,
   "id": "cd6e1a12-02fe-4920-b94b-a7365ce57e63",
   "metadata": {},
   "outputs": [
    {
     "name": "stdout",
     "output_type": "stream",
     "text": [
      "<class 'pandas.core.frame.DataFrame'>\n",
      "RangeIndex: 344 entries, 0 to 343\n",
      "Data columns (total 14 columns):\n",
      " #   Column                   Non-Null Count  Dtype  \n",
      "---  ------                   --------------  -----  \n",
      " 0   Country                  344 non-null    object \n",
      " 1   Year                     344 non-null    int64  \n",
      " 2   No. of cases_estimated   344 non-null    object \n",
      " 3   No. of deaths_estimated  344 non-null    object \n",
      " 4   No. of cases_median      344 non-null    int64  \n",
      " 5   No. of cases_min         344 non-null    float64\n",
      " 6   No. of cases_max         344 non-null    float64\n",
      " 7   No. of deaths_median     344 non-null    int64  \n",
      " 8   No. of deaths_min        344 non-null    float64\n",
      " 9   No. of deaths_max        344 non-null    float64\n",
      " 10  WHO Region               344 non-null    object \n",
      " 11  No. of cases_reported    344 non-null    float64\n",
      " 12  No. of deaths_reported   344 non-null    float64\n",
      " 13  No. of cases             344 non-null    float64\n",
      "dtypes: float64(7), int64(3), object(4)\n",
      "memory usage: 37.8+ KB\n"
     ]
    }
   ],
   "source": [
    "# Get info about the data (column types, non-null values, etc.)\n",
    "malaria_df.info()"
   ]
  },
  {
   "cell_type": "code",
   "execution_count": 4,
   "id": "b57ceb0d-d77a-4906-9d24-46709e14e73e",
   "metadata": {},
   "outputs": [
    {
     "name": "stdout",
     "output_type": "stream",
     "text": [
      "Missing values per column:\n",
      " Country                    0\n",
      "Year                       0\n",
      "No. of cases_estimated     0\n",
      "No. of deaths_estimated    0\n",
      "No. of cases_median        0\n",
      "No. of cases_min           0\n",
      "No. of cases_max           0\n",
      "No. of deaths_median       0\n",
      "No. of deaths_min          0\n",
      "No. of deaths_max          0\n",
      "WHO Region                 0\n",
      "No. of cases_reported      0\n",
      "No. of deaths_reported     0\n",
      "No. of cases               0\n",
      "dtype: int64\n"
     ]
    }
   ],
   "source": [
    "print(\"Missing values per column:\\n\", malaria_df.isnull().sum())"
   ]
  },
  {
   "cell_type": "code",
   "execution_count": 12,
   "id": "cc980ff8-d118-4c2e-bede-f3843c93d7ea",
   "metadata": {},
   "outputs": [],
   "source": [
    "features = [\n",
    "    'Year',\n",
    "    'No. of deaths_median',\n",
    "    'No. of deaths_min',\n",
    "    'No. of deaths_max',\n",
    "    'No. of cases_reported',\n",
    "    'No. of deaths_reported',\n",
    "    'No. of cases'  # incidence per 1000 at-risk population\n",
    "]"
   ]
  },
  {
   "cell_type": "code",
   "execution_count": 13,
   "id": "2ae98ed4-ad5a-4c52-977f-41d1bdcba9a6",
   "metadata": {},
   "outputs": [],
   "source": [
    "target = 'No. of cases_median'"
   ]
  },
  {
   "cell_type": "code",
   "execution_count": 14,
   "id": "4031e96b-014f-4a43-bd25-8d3f040aea05",
   "metadata": {},
   "outputs": [
    {
     "name": "stdout",
     "output_type": "stream",
     "text": [
      "Shape of features (X): (344, 7)\n",
      "Shape of target (y): (344,)\n"
     ]
    }
   ],
   "source": [
    "# Define input features (X) and target (y)\n",
    "X = malaria_df[features]\n",
    "y = malaria_df[target]\n",
    "\n",
    "print(\"Shape of features (X):\", X.shape)\n",
    "print(\"Shape of target (y):\", y.shape)"
   ]
  },
  {
   "cell_type": "code",
   "execution_count": 29,
   "id": "fd001f2d-a010-4062-a643-6dab9e71a7b3",
   "metadata": {},
   "outputs": [
    {
     "data": {
      "text/html": [
       "<style>#sk-container-id-1 {color: black;}#sk-container-id-1 pre{padding: 0;}#sk-container-id-1 div.sk-toggleable {background-color: white;}#sk-container-id-1 label.sk-toggleable__label {cursor: pointer;display: block;width: 100%;margin-bottom: 0;padding: 0.3em;box-sizing: border-box;text-align: center;}#sk-container-id-1 label.sk-toggleable__label-arrow:before {content: \"▸\";float: left;margin-right: 0.25em;color: #696969;}#sk-container-id-1 label.sk-toggleable__label-arrow:hover:before {color: black;}#sk-container-id-1 div.sk-estimator:hover label.sk-toggleable__label-arrow:before {color: black;}#sk-container-id-1 div.sk-toggleable__content {max-height: 0;max-width: 0;overflow: hidden;text-align: left;background-color: #f0f8ff;}#sk-container-id-1 div.sk-toggleable__content pre {margin: 0.2em;color: black;border-radius: 0.25em;background-color: #f0f8ff;}#sk-container-id-1 input.sk-toggleable__control:checked~div.sk-toggleable__content {max-height: 200px;max-width: 100%;overflow: auto;}#sk-container-id-1 input.sk-toggleable__control:checked~label.sk-toggleable__label-arrow:before {content: \"▾\";}#sk-container-id-1 div.sk-estimator input.sk-toggleable__control:checked~label.sk-toggleable__label {background-color: #d4ebff;}#sk-container-id-1 div.sk-label input.sk-toggleable__control:checked~label.sk-toggleable__label {background-color: #d4ebff;}#sk-container-id-1 input.sk-hidden--visually {border: 0;clip: rect(1px 1px 1px 1px);clip: rect(1px, 1px, 1px, 1px);height: 1px;margin: -1px;overflow: hidden;padding: 0;position: absolute;width: 1px;}#sk-container-id-1 div.sk-estimator {font-family: monospace;background-color: #f0f8ff;border: 1px dotted black;border-radius: 0.25em;box-sizing: border-box;margin-bottom: 0.5em;}#sk-container-id-1 div.sk-estimator:hover {background-color: #d4ebff;}#sk-container-id-1 div.sk-parallel-item::after {content: \"\";width: 100%;border-bottom: 1px solid gray;flex-grow: 1;}#sk-container-id-1 div.sk-label:hover label.sk-toggleable__label {background-color: #d4ebff;}#sk-container-id-1 div.sk-serial::before {content: \"\";position: absolute;border-left: 1px solid gray;box-sizing: border-box;top: 0;bottom: 0;left: 50%;z-index: 0;}#sk-container-id-1 div.sk-serial {display: flex;flex-direction: column;align-items: center;background-color: white;padding-right: 0.2em;padding-left: 0.2em;position: relative;}#sk-container-id-1 div.sk-item {position: relative;z-index: 1;}#sk-container-id-1 div.sk-parallel {display: flex;align-items: stretch;justify-content: center;background-color: white;position: relative;}#sk-container-id-1 div.sk-item::before, #sk-container-id-1 div.sk-parallel-item::before {content: \"\";position: absolute;border-left: 1px solid gray;box-sizing: border-box;top: 0;bottom: 0;left: 50%;z-index: -1;}#sk-container-id-1 div.sk-parallel-item {display: flex;flex-direction: column;z-index: 1;position: relative;background-color: white;}#sk-container-id-1 div.sk-parallel-item:first-child::after {align-self: flex-end;width: 50%;}#sk-container-id-1 div.sk-parallel-item:last-child::after {align-self: flex-start;width: 50%;}#sk-container-id-1 div.sk-parallel-item:only-child::after {width: 0;}#sk-container-id-1 div.sk-dashed-wrapped {border: 1px dashed gray;margin: 0 0.4em 0.5em 0.4em;box-sizing: border-box;padding-bottom: 0.4em;background-color: white;}#sk-container-id-1 div.sk-label label {font-family: monospace;font-weight: bold;display: inline-block;line-height: 1.2em;}#sk-container-id-1 div.sk-label-container {text-align: center;}#sk-container-id-1 div.sk-container {/* jupyter's `normalize.less` sets `[hidden] { display: none; }` but bootstrap.min.css set `[hidden] { display: none !important; }` so we also need the `!important` here to be able to override the default hidden behavior on the sphinx rendered scikit-learn.org. See: https://github.com/scikit-learn/scikit-learn/issues/21755 */display: inline-block !important;position: relative;}#sk-container-id-1 div.sk-text-repr-fallback {display: none;}</style><div id=\"sk-container-id-1\" class=\"sk-top-container\"><div class=\"sk-text-repr-fallback\"><pre>RandomForestRegressor(random_state=42)</pre><b>In a Jupyter environment, please rerun this cell to show the HTML representation or trust the notebook. <br />On GitHub, the HTML representation is unable to render, please try loading this page with nbviewer.org.</b></div><div class=\"sk-container\" hidden><div class=\"sk-item\"><div class=\"sk-estimator sk-toggleable\"><input class=\"sk-toggleable__control sk-hidden--visually\" id=\"sk-estimator-id-1\" type=\"checkbox\" checked><label for=\"sk-estimator-id-1\" class=\"sk-toggleable__label sk-toggleable__label-arrow\">RandomForestRegressor</label><div class=\"sk-toggleable__content\"><pre>RandomForestRegressor(random_state=42)</pre></div></div></div></div></div>"
      ],
      "text/plain": [
       "RandomForestRegressor(random_state=42)"
      ]
     },
     "execution_count": 29,
     "metadata": {},
     "output_type": "execute_result"
    }
   ],
   "source": [
    "# Train/test split\n",
    "X_train, X_test, y_train, y_test = train_test_split(X, y, test_size=0.2, random_state=42)\n",
    "\n",
    "# Train the model\n",
    "model = RandomForestRegressor(n_estimators=100, random_state=42)\n",
    "model.fit(X_train, y_train)"
   ]
  },
  {
   "cell_type": "code",
   "execution_count": 31,
   "id": "81f54f31-a17d-40c5-9977-5a943d27a24d",
   "metadata": {},
   "outputs": [
    {
     "name": "stdout",
     "output_type": "stream",
     "text": [
      "Model Evaluation:\n",
      "MAE (Mean Absolute Error): 486606.1424637681\n",
      "RMSE (Root Mean Squared Error): 964428.6916971083\n",
      "R² (R-squared score): 0.9847753468564924\n"
     ]
    }
   ],
   "source": [
    "# Check accuracy\n",
    "y_pred = model.predict(X_test)\n",
    "\n",
    "# Evaluate the model\n",
    "mae = mean_absolute_error(y_test, y_pred)\n",
    "mse = mean_squared_error(y_test, y_pred)\n",
    "rmse = np.sqrt(mse)\n",
    "r2 = r2_score(y_test, y_pred)\n",
    "\n",
    "# Print evaluation results\n",
    "print(\"Model Evaluation:\")\n",
    "print(\"MAE (Mean Absolute Error):\", mae)\n",
    "print(\"RMSE (Root Mean Squared Error):\", rmse)\n",
    "print(\"R² (R-squared score):\", r2)"
   ]
  },
  {
   "cell_type": "code",
   "execution_count": 10,
   "id": "c7b08dde-d711-4c6d-9724-15a7e0253dfc",
   "metadata": {},
   "outputs": [
    {
     "data": {
      "image/png": "[encoded data removed]",
      "text/plain": [
       "<Figure size 800x600 with 1 Axes>"
      ]
     },
     "metadata": {},
     "output_type": "display_data"
    }
   ],
   "source": [
    "import matplotlib.pyplot as plt\n",
    "\n",
    "# Create a scatter plot\n",
    "plt.figure(figsize=(8, 6))\n",
    "plt.scatter(y_test, y_pred, alpha=0.6, color='teal', edgecolor='k')\n",
    "\n",
    "# Add a diagonal reference line (perfect prediction)\n",
    "plt.plot([y_test.min(), y_test.max()], [y_test.min(), y_test.max()], 'r--', linewidth=2)\n",
    "\n",
    "# Add labels and title\n",
    "plt.xlabel('Actual Malaria Cases (Median)')\n",
    "plt.ylabel('Predicted Malaria Cases')\n",
    "plt.title('Actual vs Predicted Malaria Cases')\n",
    "plt.grid(True)\n",
    "plt.tight_layout()\n",
    "plt.show()"
   ]
  },
  {
   "cell_type": "code",
   "execution_count": 33,
   "id": "f4634a96-f6de-4344-8ac2-dc39698da7db",
   "metadata": {},
   "outputs": [
    {
     "data": {
      "image/png": "[encoded data removed]",
      "text/plain": [
       "<Figure size 1000x600 with 1 Axes>"
      ]
     },
     "metadata": {},
     "output_type": "display_data"
    }
   ],
   "source": [
    "# Get feature importances from the trained model\n",
    "import matplotlib.pyplot as plt\n",
    "import seaborn as sns\n",
    "import pandas as pd\n",
    "\n",
    "# Get feature importance\n",
    "importance_df = pd.DataFrame({\n",
    "    'Feature': X.columns,\n",
    "    'Importance': model.feature_importances_\n",
    "}).sort_values(by='Importance', ascending=False)\n",
    "\n",
    "# Plot\n",
    "plt.figure(figsize=(10, 6))\n",
    "sns.barplot(x='Importance', y='Feature', data=importance_df, palette='crest')\n",
    "plt.title('Feature Importance (No Leakage)')\n",
    "plt.xlabel('Importance Score')\n",
    "plt.ylabel('Feature')\n",
    "plt.tight_layout()\n",
    "plt.show()"
   ]
  },
  {
   "cell_type": "code",
   "execution_count": 34,
   "id": "0e62c820-8068-4385-9181-ba92d11ca379",
   "metadata": {},
   "outputs": [
    {
     "name": "stdout",
     "output_type": "stream",
     "text": [
      "Model saved as 'malaria_case_predictor_model.pkl'\n"
     ]
    }
   ],
   "source": [
    "import joblib\n",
    "\n",
    "# Save the trained model to a file\n",
    "joblib.dump(model, 'malaria_case_predictor_model.pkl')\n",
    "\n",
    "print(\"Model saved as 'malaria_case_predictor_model.pkl'\")"
   ]
  },
  {
   "cell_type": "code",
   "execution_count": 35,
   "id": "8490549f-ac85-426c-b57c-4ba0ee2b51b9",
   "metadata": {},
   "outputs": [
    {
     "name": "stdout",
     "output_type": "stream",
     "text": [
      "Prediction for Nigeria (2016):\n",
      "Predicted malaria cases: 52,668,697\n",
      "Actual malaria cases (median): 52,357,005\n"
     ]
    }
   ],
   "source": [
    "# Select a test row (e.g., Nigeria in 2016)\n",
    "sample_row = malaria_df[(malaria_df['Country'] == 'Nigeria') & (malaria_df['Year'] == 2016)]\n",
    "\n",
    "if not sample_row.empty:\n",
    "    X_new = sample_row[features]\n",
    "    y_actual = sample_row['No. of cases_median'].values[0]\n",
    "    y_predicted = model.predict(X_new)[0]\n",
    "\n",
    "    print(\"Prediction for Nigeria (2016):\")\n",
    "    print(f\"Predicted malaria cases: {int(y_predicted):,}\")\n",
    "    print(f\"Actual malaria cases (median): {int(y_actual):,}\")\n",
    "else:\n",
    "    print(\"Nigeria 2016 data not found.\")"
   ]
  },
  {
   "cell_type": "code",
   "execution_count": 36,
   "id": "f0793927-644e-4b9a-9233-fc63d3bbc0be",
   "metadata": {},
   "outputs": [
    {
     "name": "stdout",
     "output_type": "stream",
     "text": [
      "Weather in Lagos:\n",
      "Temperature: 25.51°C\n",
      "Humidity: 83%\n",
      "Rainfall (last hour): 0 mm\n",
      "Conditions: overcast clouds\n"
     ]
    }
   ],
   "source": [
    "import requests\n",
    "\n",
    "# City and country of my choice\n",
    "city = \"Lagos\"\n",
    "country = \"NG\"  # Country code for Nigeria\n",
    "\n",
    "# My OpenWeatherMap API key\n",
    "api_key = \"24ead9f3a98cc910403d4de435ac95fc\"\n",
    "\n",
    "# Build the API URL\n",
    "url = f\"http://api.openweathermap.org/data/2.5/weather?q={city},{country}&appid={api_key}&units=metric\"\n",
    "\n",
    "# Make the request\n",
    "response = requests.get(url)\n",
    "\n",
    "# Parse the JSON response\n",
    "if response.status_code == 200:\n",
    "    data = response.json()\n",
    "    \n",
    "    # Extract useful weather features\n",
    "    temp = data['main']['temp']  # in Celsius\n",
    "    humidity = data['main']['humidity']  # %\n",
    "    weather_desc = data['weather'][0]['description']\n",
    "    \n",
    "    # Rainfall (optional – might not always be present)\n",
    "    rainfall = data.get('rain', {}).get('1h', 0)\n",
    "\n",
    "    # Show results\n",
    "    print(f\"Weather in {city}:\")\n",
    "    print(f\"Temperature: {temp}°C\")\n",
    "    print(f\"Humidity: {humidity}%\")\n",
    "    print(f\"Rainfall (last hour): {rainfall} mm\")\n",
    "    print(f\"Conditions: {weather_desc}\")\n",
    "else:\n",
    "    print(\"Failed to fetch weather data:\", response.status_code)\n"
   ]
  },
  {
   "cell_type": "code",
   "execution_count": null,
   "id": "99990cc5-8a44-430d-8b1f-8614fb68f207",
   "metadata": {},
   "outputs": [],
   "source": []
  }
 ],
 "metadata": {
  "kernelspec": {
   "display_name": "anaconda-2024.02-py310",
   "language": "python",
   "name": "conda-env-anaconda-2024.02-py310-py"
  },
  "language_info": {
   "codemirror_mode": {
    "name": "ipython",
    "version": 3
   },
   "file_extension": ".py",
   "mimetype": "text/x-python",
   "name": "python",
   "nbconvert_exporter": "python",
   "pygments_lexer": "ipython3",
   "version": "3.10.14"
  }
 },
 "nbformat": 4,
 "nbformat_minor": 5
}
